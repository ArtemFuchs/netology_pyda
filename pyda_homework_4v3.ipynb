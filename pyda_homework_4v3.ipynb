{
 "cells": [
  {
   "cell_type": "markdown",
   "metadata": {},
   "source": [
    "## Задание 1"
   ]
  },
  {
   "cell_type": "markdown",
   "metadata": {},
   "source": [
    "Дан список вида:"
   ]
  },
  {
   "cell_type": "code",
   "execution_count": 3,
   "metadata": {},
   "outputs": [],
   "source": [
    "data = [\n",
    "    [13, 25, 23, 34],\n",
    "    [45, 32, 44, 47],\n",
    "    [12, 33, 23, 95],\n",
    "    [13, 53, 34, 35]\n",
    "]"
   ]
  },
  {
   "cell_type": "markdown",
   "metadata": {},
   "source": [
    "Напишите функцию, которая возвращает сумму элементов на диагонали. Т. е. 13+32+23+35.  \n",
    "Список может быть любой длины, но всегда является \"квадратным\" (количество элементов во вложенных списках равно их количеству)."
   ]
  },
  {
   "cell_type": "code",
   "execution_count": 4,
   "metadata": {},
   "outputs": [
    {
     "name": "stdout",
     "output_type": "stream",
     "text": [
      "103\n"
     ]
    }
   ],
   "source": [
    "def trace(matrix):\n",
    "    trace = 0\n",
    "    for i in range(0, len(matrix)):\n",
    "        trace += matrix[i][i]\n",
    "    return trace\n",
    "\n",
    "\n",
    "print(trace(data))"
   ]
  },
  {
   "cell_type": "markdown",
   "metadata": {},
   "source": [
    "## Задание 2"
   ]
  },
  {
   "cell_type": "markdown",
   "metadata": {},
   "source": [
    "Напишите функцию, возвращающую сумму первых n чисел Фибоначчи (для этого вам может понадобится ознакомиться с рекурсией)."
   ]
  },
  {
   "cell_type": "code",
   "execution_count": 37,
   "metadata": {},
   "outputs": [
    {
     "name": "stdout",
     "output_type": "stream",
     "text": [
      "Введите n: 3\n",
      "1\n",
      "1\n",
      "2\n",
      "Сумма первых 3 чисел Фибоначчи равна 4\n"
     ]
    }
   ],
   "source": [
    "def summ_fib(n):\n",
    "    def fibonacci(n):\n",
    "        if n == 0 or n == 1:\n",
    "            return 1\n",
    "        else:\n",
    "            return (fibonacci(n-2) + fibonacci(n-1))\n",
    "    summ = 0\n",
    "    for i in range(0,n):\n",
    "        print(fibonacci(i))\n",
    "        summ += fibonacci(i)\n",
    "    return summ\n",
    "n = int(input('Введите n: '))\n",
    "print('Сумма первых', n, 'чисел Фибоначчи равна', summ_fib(n))"
   ]
  },
  {
   "cell_type": "markdown",
   "metadata": {},
   "source": [
    "## Задание 3\n"
   ]
  },
  {
   "cell_type": "markdown",
   "metadata": {},
   "source": [
    "Напишите функцию, преобразующую произвольный список вида ['2018-01-01', 'yandex', 'cpc', 100] (он может быть любой длины) в словарь {'2018-01-01': {'yandex': {'cpc': 100}}}"
   ]
  },
  {
   "cell_type": "code",
   "execution_count": 115,
   "metadata": {},
   "outputs": [],
   "source": [
    "test_list1 = ['2018-01-01', 'yandex', 'cpc', 100, 1, 2, 3]\n",
    "test_list2 = ['2018-01-01', 'yandex', 'cpc', 100, 1, 2,]\n"
   ]
  },
  {
   "cell_type": "code",
   "execution_count": 116,
   "metadata": {},
   "outputs": [
    {
     "name": "stdout",
     "output_type": "stream",
     "text": [
      "{1: {2: {3: {4: {5: {6: {7: {8: {1: {1: {1: {1: 1}}}}}}}}}}}}\n",
      "{'2018-01-01': {'yandex': {'cpc': {100: {1: 2}}}}}\n",
      "{'2018-01-01': {'yandex': {'cpc': {100: {1: {2: 3}}}}}}\n"
     ]
    }
   ],
   "source": [
    "test_list3 = [1, 2, 3, 4, 5, 6, 7, 8, 1,1,1,1,1 ]\n",
    "def converter(test_list):\n",
    "    empty_list = []\n",
    "    for i in range(0, len(test_list)-1):\n",
    "        empty_list.append(test_list[i])\n",
    "        empty_list.append(test_list[i+1:])\n",
    "    empty_list[-1] = empty_list[-1][0]\n",
    "    #print(empty_list)\n",
    "    #print(len(empty_list))\n",
    "    new_list = []\n",
    "    for i in range(0, len(empty_list), 2):\n",
    "        dictionary = {}\n",
    "        key = empty_list[i]\n",
    "        value = empty_list[i+1]\n",
    "        dictionary[key] = value\n",
    "        new_list.append(dictionary)\n",
    "        #print(dictionary)\n",
    "    new_list.reverse()\n",
    "    list_copy = new_list.copy()\n",
    "    #print(new_list)\n",
    "    #print(list_copy)\n",
    "    for i in range(1, len(new_list)):\n",
    "        iter_dict = new_list[i]\n",
    "        value = new_list[i-1]\n",
    "        key = list(iter_dict.keys())[0]\n",
    "        iter_dict[key] = value\n",
    "    new_list.reverse()\n",
    "    print(new_list[0])  \n",
    "converter(test_list3)\n",
    "converter(test_list2)\n",
    "converter(test_list1)"
   ]
  },
  {
   "cell_type": "markdown",
   "metadata": {},
   "source": [
    "## Задание 4"
   ]
  },
  {
   "cell_type": "markdown",
   "metadata": {},
   "source": [
    "Вы работаете секретарем и вам постоянно приходят различные документы. Вы должны быть очень внимательны, чтобы не потерять ни один документ. Каталог документов хранится в следующем виде:"
   ]
  },
  {
   "cell_type": "code",
   "execution_count": 77,
   "metadata": {},
   "outputs": [],
   "source": [
    "documents = [\n",
    "    {'type': 'passport', 'number': '2207 876234', 'name': 'Василий Гупкин'},\n",
    "    {'type': 'invoice', 'number': '11-2', 'name': 'Геннадий Покемонов'},\n",
    "    {'type': 'insurance', 'number': '10006', 'name': 'Аристарх Павлов'}\n",
    "]"
   ]
  },
  {
   "cell_type": "markdown",
   "metadata": {},
   "source": [
    "Перечень полок, на которых находятся документы хранится в следующем виде:"
   ]
  },
  {
   "cell_type": "code",
   "execution_count": 78,
   "metadata": {},
   "outputs": [],
   "source": [
    "directories = {\n",
    "    '1': ['2207 876234', '11-2', '5455 028765'],\n",
    "    '2': ['10006', '5400 028765', '5455 002299'],\n",
    "    '3': []\n",
    "}"
   ]
  },
  {
   "cell_type": "markdown",
   "metadata": {},
   "source": [
    "Необходимо реализовать пользовательские команды (внимание! это не название функций, которые должны быть выразительными, а команды, которые вводит пользователь, чтобы получить необходимый результат):\n",
    "  \n",
    "- p – people – команда, которая спросит номер документа и выведет имя человека, которому он принадлежит;  \n",
    "- s – shelf – команда, которая спросит номер документа и выведет номер полки, на которой он находится  \n",
    "Правильно обработайте ситуацию, когда пользователь будет вводить несуществующий документ.\n",
    "- l – list – команда, которая выведет список всех документов в формате   \n",
    "**passport \"2207 876234\" \"Василий Гупкин\"**  \n",
    "- as – add shelf – команда, которая спросит номер новой полки и добавит ее в перечень\n",
    "- d – delete – команда, которая спросит номер документа и удалит его из каталога и из перечня полок. Предусмотрите сценарий, когда пользователь вводит несуществующий документ;  \n",
    "- m – move – команда, которая спросит номер документа и целевую полку и переместит его с текущей полки на целевую. Корректно обработайте кейсы, когда пользователь пытается переместить несуществующий документ или переместить документ на несуществующую полку;  \n",
    "- a – add – команда, которая добавит новый документ в каталог и в перечень полок, спросив его номер, тип, имя владельца и номер полки, на котором он будет храниться."
   ]
  },
  {
   "cell_type": "code",
   "execution_count": 13,
   "metadata": {},
   "outputs": [],
   "source": [
    "def document_check(doc_number):\n",
    "    docs = []\n",
    "    for values in directories.values():\n",
    "        for document in values:\n",
    "            docs.append(document)\n",
    "    if doc_number not in docs:\n",
    "        return True\n",
    "\n",
    "def people(doc_number):\n",
    "    if document_check(doc_number) == True:\n",
    "        print(\"Document doesn't exist\")\n",
    "    else:\n",
    "        for dicts in documents:\n",
    "            if doc_number == dicts['number']:\n",
    "                print(dicts['name'])\n",
    "\n",
    "def shelf(doc_number):\n",
    "    if document_check(doc_number) == True:\n",
    "        print(\"Document doesn't exist\")\n",
    "    else:\n",
    "        for shelfs, doc_numbers in directories.items(): \n",
    "            if doc_number in doc_numbers:\n",
    "                print(shelfs)\n",
    "\n",
    "def list_all():\n",
    "    for docs in documents:\n",
    "        print(docs['type'], docs['number'], docs['name'])\n",
    "\n",
    "def add_shelf(shelf_number):\n",
    "    if str(shelf_number) in directories.keys():\n",
    "        print('Error')\n",
    "    else:\n",
    "        directories[str(shelf_number)] = [] \n",
    "\n",
    "def delete(doc_number): \n",
    "    numbers = []\n",
    "    for dicts in documents:\n",
    "        numbers.append(dicts['number'])\n",
    "    if doc_number not in numbers:\n",
    "        print('Error')\n",
    "    else:\n",
    "        for doc_numbers in directories.values():\n",
    "            if doc_number in doc_numbers:\n",
    "                doc_numbers.remove(doc_number)\n",
    "        for dicts in documents:\n",
    "            if doc_number == dicts['number']:\n",
    "                del(dicts['number'])\n",
    "\n",
    "def document_delete(doc_number):\n",
    "    for doc_numbers in directories.values():\n",
    "        if doc_number in doc_numbers:\n",
    "            doc_numbers.remove(doc_number)\n",
    "                \n",
    "                \n",
    "def move(doc_number, shelf_number):\n",
    "    if document_check(doc_number) == True:\n",
    "        print(\"Document doesn't exist\")\n",
    "    else:\n",
    "        if shelf_number not in directories.keys():\n",
    "            print('Creating new shelf')\n",
    "            add_shelf(shelf_number)\n",
    "            document_delete(doc_number)\n",
    "            directories[shelf_number].append(doc_number)\n",
    "        else:\n",
    "            document_delete(doc_number)\n",
    "            directories[shelf_number].append(doc_number)\n",
    "\n",
    "def add(doc_type, doc_number, doc_name, shelf_number):\n",
    "    empty_dict = {}\n",
    "    empty_dict['type'] = doc_type\n",
    "    empty_dict['number'] = doc_number\n",
    "    empty_dict['name'] = doc_name\n",
    "    documents.append(empty_dict)\n",
    "    if shelf_number not in directories.keys():\n",
    "        add_shelf(shelf_number)\n",
    "        directories[shelf_number].append(doc_number)\n",
    "    else:\n",
    "        directories[shelf_number].append(doc_number)\n",
    "    \n",
    "def command():    \n",
    "    command_list = ['p', 's', 'l', 'as', 'd', 'm', 'a']    \n",
    "    command = input('Введите команду: ')\n",
    "    if command not in command_list:\n",
    "        print(\"Command doesn't exist\")\n",
    "    elif command == 'p':\n",
    "        doc_number = input('Введите номер документа: ')\n",
    "        people(doc_number)\n",
    "    elif command == 's':\n",
    "        doc_number = input('Введите номер документа: ')\n",
    "        shelf(doc_number)\n",
    "    elif command == 'l':\n",
    "        list_all()\n",
    "    elif command == 'as':\n",
    "        shelf_number = input('Введите номер полки: ')\n",
    "        add_shelf(shelf_number)\n",
    "    elif command == 'd':\n",
    "        doc_number = input('Введите номер документа: ')\n",
    "        delete(doc_number)\n",
    "    elif command == 'm':\n",
    "        doc_number = input('Введите номер документа: ')\n",
    "        shelf_number = input('Введите номер полки: ')\n",
    "        move(doc_number, shelf_number)\n",
    "    elif command == 'a':\n",
    "        doc_type = input('Введите тип документа: ')\n",
    "        doc_number = input('Введите номер документа: ')\n",
    "        doc_name = input('Введите имя: ')\n",
    "        shelf_number = input('Введите номер полки: ')\n",
    "        add(doc_type, doc_number, doc_name, shelf_number)"
   ]
  },
  {
   "cell_type": "code",
   "execution_count": null,
   "metadata": {},
   "outputs": [],
   "source": [
    "\n"
   ]
  }
 ],
 "metadata": {
  "kernelspec": {
   "display_name": "Python 3",
   "language": "python",
   "name": "python3"
  },
  "language_info": {
   "codemirror_mode": {
    "name": "ipython",
    "version": 3
   },
   "file_extension": ".py",
   "mimetype": "text/x-python",
   "name": "python",
   "nbconvert_exporter": "python",
   "pygments_lexer": "ipython3",
   "version": "3.7.1"
  }
 },
 "nbformat": 4,
 "nbformat_minor": 2
}
